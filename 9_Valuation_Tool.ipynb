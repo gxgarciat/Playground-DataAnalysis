{
 "cells": [
  {
   "cell_type": "code",
   "execution_count": 1,
   "id": "56bc076e-76eb-487a-bb15-93b374706aa1",
   "metadata": {},
   "outputs": [],
   "source": [
    "from sklearn.datasets import load_boston\n",
    "from sklearn.linear_model import LinearRegression\n",
    "from sklearn.metrics import mean_squared_error\n",
    "from sklearn.metrics import mean_squared_error\n",
    "\n",
    "\n",
    "import pandas as pd\n",
    "import numpy as np"
   ]
  },
  {
   "cell_type": "code",
   "execution_count": 2,
   "id": "f6e22c8c-ebb7-4213-ab3c-24179beb6fcc",
   "metadata": {},
   "outputs": [],
   "source": [
    "# Gathering data\n",
    "\n",
    "\n",
    "boston_dataset = load_boston()\n",
    "data = pd.DataFrame(data=boston_dataset.data,columns=boston_dataset.feature_names)\n",
    "\n",
    "#data.head()\n",
    "\n",
    "features = data.drop(['INDUS','AGE'],axis=1)\n",
    "\n",
    "log_prices = np.log(boston_dataset.target)\n",
    "#log_prices.shape\n",
    "#feaures.shape\n",
    "\n",
    "target = pd.DataFrame(log_prices, columns=['PRICE'])"
   ]
  },
  {
   "cell_type": "code",
   "execution_count": 3,
   "id": "ab20dfae-777f-4859-9dda-99508ae2ca08",
   "metadata": {},
   "outputs": [],
   "source": [
    "CRIME_IDX = 0\n",
    "ZN_IDX = 1\n",
    "CHAS_IDX = 2\n",
    "RM_IDX = 4\n",
    "PTRATIO_IDX = 8\n",
    "\n",
    "\n",
    "#property_stats = np.ndarray(shape=(1,11))\n",
    "#property_stats[0][CRIME_IDX] = features['CRIM'].mean()\n",
    "#property_stats[0][ZN_IDX] = features['ZN'].mean()\n",
    "#property_stats[0][CHAS_IDX] = features['CHAS'].mean()\n",
    "\n",
    "property_stats = features.mean().values.reshape(1,11) # template to make predictions\n",
    "#property_stats\n"
   ]
  },
  {
   "cell_type": "code",
   "execution_count": 4,
   "id": "30f0aa73-8939-463e-9a1c-9740ed139c9a",
   "metadata": {},
   "outputs": [
    {
     "data": {
      "text/plain": [
       "pandas.core.series.Series"
      ]
     },
     "execution_count": 4,
     "metadata": {},
     "output_type": "execute_result"
    }
   ],
   "source": [
    "type(features.mean())"
   ]
  },
  {
   "cell_type": "code",
   "execution_count": 5,
   "id": "22af371a-e558-4689-abdc-23737894cb18",
   "metadata": {},
   "outputs": [
    {
     "data": {
      "text/plain": [
       "numpy.ndarray"
      ]
     },
     "execution_count": 5,
     "metadata": {},
     "output_type": "execute_result"
    }
   ],
   "source": [
    "type(features.mean().values)  # property of this object is the sames as property_stats"
   ]
  },
  {
   "cell_type": "code",
   "execution_count": 6,
   "id": "6d4b428f-61a4-44a9-bb08-7e0381149bb3",
   "metadata": {},
   "outputs": [
    {
     "data": {
      "text/plain": [
       "(11,)"
      ]
     },
     "execution_count": 6,
     "metadata": {},
     "output_type": "execute_result"
    }
   ],
   "source": [
    "features.mean().values.shape # same dimension as property_stats"
   ]
  },
  {
   "cell_type": "code",
   "execution_count": 7,
   "id": "2d30b285-e2e0-4512-ab6c-9783d08e0ccd",
   "metadata": {},
   "outputs": [],
   "source": [
    "regr = LinearRegression().fit(features,target)\n",
    "fitted_vals = regr.predict(features)\n",
    "\n",
    "# MSE & RMSE\n",
    "MSE = mean_squared_error(target,fitted_vals)\n",
    "RMSE = np.sqrt(MSE)"
   ]
  },
  {
   "cell_type": "code",
   "execution_count": 8,
   "id": "958d7f76-7516-400b-bece-5d78596018fa",
   "metadata": {},
   "outputs": [],
   "source": [
    "#fitted_vals.shape"
   ]
  },
  {
   "cell_type": "code",
   "execution_count": 9,
   "id": "a5ebb4ba-3579-41d1-9329-99b64b0e551c",
   "metadata": {},
   "outputs": [],
   "source": [
    "def get_log_estimate(nr_rooms,\n",
    "                    students_per_classrooms,\n",
    "                    next_to_river = False,\n",
    "                    high_confidence=True):  # These will make these arguments to be optionals\n",
    "    \n",
    "    # Configure property\n",
    "    property_stats[0][RM_IDX] = nr_rooms\n",
    "    property_stats[0][PTRATIO_IDX] = students_per_classrooms\n",
    "    \n",
    "    # Flow control for the river\n",
    "    if next_to_river:\n",
    "        property_stats[0][CHAS_IDX] = 1\n",
    "    else:\n",
    "        property_stats[0][CHAS_IDX] = 0\n",
    "    \n",
    "    # Making prediction\n",
    "    log_estimate = regr.predict(property_stats)[0][0]\n",
    "    \n",
    "    # Including cost range\n",
    "    \n",
    "    if high_confidence:\n",
    "        upper_bound = log_estimate + 2*RMSE\n",
    "        lower_bound = log_estimate - 2*RMSE\n",
    "        interval = 95\n",
    "        \n",
    "    else:\n",
    "        upper_bound = log_estimate + RMSE\n",
    "        lower_bound = log_estimate - RMSE\n",
    "        interval = 68\n",
    "        \n",
    "        \n",
    "    return log_estimate, upper_bound, lower_bound, interval"
   ]
  },
  {
   "cell_type": "code",
   "execution_count": 10,
   "id": "168e4ee3-afe5-4288-ad2d-45952e9d50d6",
   "metadata": {},
   "outputs": [
    {
     "data": {
      "text/plain": [
       "(2.7767581914803974, 2.9642703266775277, 2.589246056283267, 68)"
      ]
     },
     "execution_count": 10,
     "metadata": {},
     "output_type": "execute_result"
    }
   ],
   "source": [
    "# This will provide with a tuple of data \n",
    "\n",
    "get_log_estimate(nr_rooms= 3,students_per_classrooms = 20,next_to_river =  True,high_confidence = False)\n",
    "\n"
   ]
  },
  {
   "cell_type": "code",
   "execution_count": 11,
   "id": "c3127a8f-f699-4221-88a8-67d46165d41d",
   "metadata": {},
   "outputs": [
    {
     "data": {
      "text/plain": [
       "21.2"
      ]
     },
     "execution_count": 11,
     "metadata": {},
     "output_type": "execute_result"
    }
   ],
   "source": [
    "np.median(boston_dataset.target)"
   ]
  },
  {
   "cell_type": "code",
   "execution_count": 12,
   "id": "00d7d917-1b78-47b5-8153-950efe4f4c55",
   "metadata": {},
   "outputs": [],
   "source": [
    "# Estimation obtained from ZILLOW\n",
    "\n",
    "ZILLOW_MEDIAN_PRICE = 583.3\n",
    "\n",
    "# Calculating \"inflation factor\"\n",
    "SCALE_FACTOR = ZILLOW_MEDIAN_PRICE / np.median(boston_dataset.target)\n"
   ]
  },
  {
   "cell_type": "code",
   "execution_count": 13,
   "id": "eea80710-824e-47b8-812a-6c10c833cd85",
   "metadata": {},
   "outputs": [],
   "source": [
    "def get_dollar_estimate(rm, ptratio, chas=False, large_range = True):\n",
    "    \n",
    "    # Adding documentation to this function by using docstring\n",
    "    \"\"\" Estimate the price of a property in Boston.\n",
    "    \n",
    "    Keyword arguments:\n",
    "    rm -- number of rooms in the property\n",
    "    ptratio -- numer of students per teacher in the classroom for the school in the are\n",
    "    chas -- True if the property is next to the river. False otherwise.\n",
    "    large_range -- True for a 95% prediction interval, False for a 68% interval.\n",
    "    \n",
    "    \"\"\"\n",
    "    \n",
    "    # Avoiding wrong input data\n",
    "    if rm < 1 or ptratio < 1:\n",
    "        print('These values are unrealistic. Try again.')\n",
    "        return\n",
    "    \n",
    "    # Calling function by using keywords\n",
    "    log_est, upper, lower, conf = get_log_estimate(rm,\n",
    "                                                   students_per_classrooms = ptratio,\n",
    "                                                   next_to_river = chas,\n",
    "                                                   high_confidence = large_range)\n",
    "\n",
    "    # Updating to today's dollar\n",
    "    dollar_est = np.e**log_est * 1000 * SCALE_FACTOR\n",
    "    dollar_hi = np.e**upper * 1000 * SCALE_FACTOR\n",
    "    dollar_low = np.e**lower * 1000 * SCALE_FACTOR\n",
    "\n",
    "    # Rounding estimations\n",
    "    rounded_est = np.around(dollar_est,-3)\n",
    "    rounded_hi = np.around(dollar_hi,-3)\n",
    "    rounded_low = np.around(dollar_low,-3)\n",
    "\n",
    "    print(f'The estimated property value is: {rounded_est}')\n",
    "    print(f'At {conf}% the valuation range is')\n",
    "    print(f'USD {rounded_low} at the lower end to USD {rounded_hi} at the high end.')\n"
   ]
  },
  {
   "cell_type": "code",
   "execution_count": 14,
   "id": "a98024c7-a21b-42b7-b387-8d8837878d03",
   "metadata": {},
   "outputs": [
    {
     "name": "stdout",
     "output_type": "stream",
     "text": [
      "The estimated property value is: 442000.0\n",
      "At 95% the valuation range is\n",
      "USD 304000.0 at the lower end to USD 643000.0 at the high end.\n"
     ]
    }
   ],
   "source": [
    " get_dollar_estimate(rm=3,ptratio=20,chas=True)"
   ]
  },
  {
   "cell_type": "code",
   "execution_count": 15,
   "id": "3c2d9501-dffd-4882-abbe-3e94b09e5f76",
   "metadata": {},
   "outputs": [],
   "source": [
    "import Valuation_tool as val"
   ]
  },
  {
   "cell_type": "code",
   "execution_count": 16,
   "id": "463bb10c-b0b3-480e-8d30-85d2cbb43e18",
   "metadata": {},
   "outputs": [
    {
     "name": "stdout",
     "output_type": "stream",
     "text": [
      "The estimated property value is: 783000.0\n",
      "At 95% the valuation range is\n",
      "USD 538000.0 at the lower end to USD 1139000.0 at the high end.\n"
     ]
    }
   ],
   "source": [
    "val.get_dollar_estimate(6,12,True)"
   ]
  },
  {
   "cell_type": "code",
   "execution_count": null,
   "id": "7bd2e699-f91a-41c9-aa87-0ea9b8f03b1f",
   "metadata": {},
   "outputs": [],
   "source": []
  },
  {
   "cell_type": "code",
   "execution_count": null,
   "id": "4e217c45-cb12-4b0a-9bce-88ef1c572e12",
   "metadata": {},
   "outputs": [],
   "source": []
  }
 ],
 "metadata": {
  "kernelspec": {
   "display_name": "Python 3",
   "language": "python",
   "name": "python3"
  },
  "language_info": {
   "codemirror_mode": {
    "name": "ipython",
    "version": 3
   },
   "file_extension": ".py",
   "mimetype": "text/x-python",
   "name": "python",
   "nbconvert_exporter": "python",
   "pygments_lexer": "ipython3",
   "version": "3.9.5"
  }
 },
 "nbformat": 4,
 "nbformat_minor": 5
}
