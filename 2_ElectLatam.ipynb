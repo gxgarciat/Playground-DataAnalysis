{
 "cells": [
  {
   "cell_type": "code",
   "execution_count": 28,
   "id": "803ba9e8-e02d-4983-ba2d-7cc1d46a1320",
   "metadata": {},
   "outputs": [],
   "source": [
    "import pandas\n",
    "from pandas import DataFrame\n",
    "import math\n",
    "import matplotlib.pyplot as plt\n",
    "# for linear regression analysis\n",
    "from sklearn.linear_model import LinearRegression"
   ]
  },
  {
   "cell_type": "code",
   "execution_count": 29,
   "id": "729ff153-cd88-4fdf-bf44-94be90df3b6a",
   "metadata": {},
   "outputs": [
    {
     "data": {
      "text/plain": [
       "'\\nRow 0: Argentina\\nRow 1: Bolivia\\nRow 2: Brazil\\nRow 3: Colombia\\nRow 4: Chile\\nRow 5: Ecuador\\nRow 6: Peru\\nRow 7: Uruguay\\nRow 8: Venezuela\\n'"
      ]
     },
     "execution_count": 29,
     "metadata": {},
     "output_type": "execute_result"
    }
   ],
   "source": [
    "stats = pandas.read_csv('wb_db_latam_clean.csv')\n",
    "\"\"\"\n",
    "Row 0: Argentina\n",
    "Row 1: Bolivia\n",
    "Row 2: Brazil\n",
    "Row 3: Colombia\n",
    "Row 4: Chile\n",
    "Row 5: Ecuador\n",
    "Row 6: Peru\n",
    "Row 7: Uruguay\n",
    "Row 8: Venezuela\n",
    "\"\"\""
   ]
  },
  {
   "cell_type": "code",
   "execution_count": 30,
   "id": "c3259355-fbc1-44a1-a0eb-9e7039c8a6ef",
   "metadata": {},
   "outputs": [
    {
     "data": {
      "text/html": [
       "<div>\n",
       "<style scoped>\n",
       "    .dataframe tbody tr th:only-of-type {\n",
       "        vertical-align: middle;\n",
       "    }\n",
       "\n",
       "    .dataframe tbody tr th {\n",
       "        vertical-align: top;\n",
       "    }\n",
       "\n",
       "    .dataframe thead th {\n",
       "        text-align: right;\n",
       "    }\n",
       "</style>\n",
       "<table border=\"1\" class=\"dataframe\">\n",
       "  <thead>\n",
       "    <tr style=\"text-align: right;\">\n",
       "      <th></th>\n",
       "      <th>2001</th>\n",
       "      <th>2002</th>\n",
       "      <th>2003</th>\n",
       "      <th>2004</th>\n",
       "      <th>2005</th>\n",
       "      <th>2006</th>\n",
       "      <th>2007</th>\n",
       "      <th>2008</th>\n",
       "      <th>2009</th>\n",
       "      <th>2010</th>\n",
       "      <th>2011</th>\n",
       "      <th>2012</th>\n",
       "      <th>2013</th>\n",
       "      <th>2014</th>\n",
       "      <th>2015</th>\n",
       "      <th>2016</th>\n",
       "      <th>2017</th>\n",
       "      <th>2018</th>\n",
       "    </tr>\n",
       "  </thead>\n",
       "  <tbody>\n",
       "    <tr>\n",
       "      <th>0</th>\n",
       "      <td>95.511063</td>\n",
       "      <td>96.107910</td>\n",
       "      <td>96.384895</td>\n",
       "      <td>96.638649</td>\n",
       "      <td>96.867393</td>\n",
       "      <td>97.080025</td>\n",
       "      <td>97.288132</td>\n",
       "      <td>97.503296</td>\n",
       "      <td>97.737106</td>\n",
       "      <td>98.820000</td>\n",
       "      <td>99.278694</td>\n",
       "      <td>99.497856</td>\n",
       "      <td>99.476555</td>\n",
       "      <td>100.000000</td>\n",
       "      <td>99.827118</td>\n",
       "      <td>99.959122</td>\n",
       "      <td>100.0</td>\n",
       "      <td>100.000000</td>\n",
       "    </tr>\n",
       "    <tr>\n",
       "      <th>1</th>\n",
       "      <td>69.258539</td>\n",
       "      <td>63.996855</td>\n",
       "      <td>72.300000</td>\n",
       "      <td>76.125999</td>\n",
       "      <td>68.288209</td>\n",
       "      <td>76.211281</td>\n",
       "      <td>80.156567</td>\n",
       "      <td>84.674991</td>\n",
       "      <td>86.765597</td>\n",
       "      <td>88.033195</td>\n",
       "      <td>88.335943</td>\n",
       "      <td>90.387375</td>\n",
       "      <td>89.505686</td>\n",
       "      <td>90.038729</td>\n",
       "      <td>91.522822</td>\n",
       "      <td>91.800000</td>\n",
       "      <td>91.8</td>\n",
       "      <td>95.585365</td>\n",
       "    </tr>\n",
       "    <tr>\n",
       "      <th>2</th>\n",
       "      <td>96.016528</td>\n",
       "      <td>96.652996</td>\n",
       "      <td>96.980098</td>\n",
       "      <td>96.765107</td>\n",
       "      <td>97.093513</td>\n",
       "      <td>97.594314</td>\n",
       "      <td>98.125382</td>\n",
       "      <td>98.526625</td>\n",
       "      <td>98.856938</td>\n",
       "      <td>98.976738</td>\n",
       "      <td>99.328691</td>\n",
       "      <td>99.519494</td>\n",
       "      <td>99.575151</td>\n",
       "      <td>99.650247</td>\n",
       "      <td>99.710902</td>\n",
       "      <td>99.700000</td>\n",
       "      <td>100.0</td>\n",
       "      <td>100.000000</td>\n",
       "    </tr>\n",
       "    <tr>\n",
       "      <th>3</th>\n",
       "      <td>94.229317</td>\n",
       "      <td>94.530762</td>\n",
       "      <td>94.813454</td>\n",
       "      <td>95.072922</td>\n",
       "      <td>96.800000</td>\n",
       "      <td>95.525703</td>\n",
       "      <td>95.739525</td>\n",
       "      <td>96.806763</td>\n",
       "      <td>96.057229</td>\n",
       "      <td>96.788995</td>\n",
       "      <td>96.693600</td>\n",
       "      <td>97.032176</td>\n",
       "      <td>97.779418</td>\n",
       "      <td>97.790938</td>\n",
       "      <td>98.186898</td>\n",
       "      <td>98.400000</td>\n",
       "      <td>98.5</td>\n",
       "      <td>99.936447</td>\n",
       "    </tr>\n",
       "    <tr>\n",
       "      <th>4</th>\n",
       "      <td>97.173630</td>\n",
       "      <td>97.395782</td>\n",
       "      <td>98.782325</td>\n",
       "      <td>97.779366</td>\n",
       "      <td>97.934525</td>\n",
       "      <td>99.368108</td>\n",
       "      <td>98.208099</td>\n",
       "      <td>98.349686</td>\n",
       "      <td>99.593662</td>\n",
       "      <td>99.383003</td>\n",
       "      <td>99.588193</td>\n",
       "      <td>100.000000</td>\n",
       "      <td>99.600000</td>\n",
       "      <td>100.000000</td>\n",
       "      <td>99.714844</td>\n",
       "      <td>100.000000</td>\n",
       "      <td>100.0</td>\n",
       "      <td>100.000000</td>\n",
       "    </tr>\n",
       "    <tr>\n",
       "      <th>5</th>\n",
       "      <td>93.908539</td>\n",
       "      <td>94.279808</td>\n",
       "      <td>94.973044</td>\n",
       "      <td>94.961617</td>\n",
       "      <td>95.832650</td>\n",
       "      <td>96.315259</td>\n",
       "      <td>96.812618</td>\n",
       "      <td>97.206576</td>\n",
       "      <td>96.470862</td>\n",
       "      <td>97.462142</td>\n",
       "      <td>96.872699</td>\n",
       "      <td>97.194929</td>\n",
       "      <td>98.034674</td>\n",
       "      <td>98.976067</td>\n",
       "      <td>98.825883</td>\n",
       "      <td>98.700000</td>\n",
       "      <td>99.2</td>\n",
       "      <td>100.000000</td>\n",
       "    </tr>\n",
       "    <tr>\n",
       "      <th>6</th>\n",
       "      <td>72.113111</td>\n",
       "      <td>74.382688</td>\n",
       "      <td>74.380966</td>\n",
       "      <td>75.692357</td>\n",
       "      <td>77.173645</td>\n",
       "      <td>80.157275</td>\n",
       "      <td>81.988131</td>\n",
       "      <td>84.678343</td>\n",
       "      <td>86.424320</td>\n",
       "      <td>88.123061</td>\n",
       "      <td>89.707491</td>\n",
       "      <td>91.099508</td>\n",
       "      <td>92.135365</td>\n",
       "      <td>92.919989</td>\n",
       "      <td>93.852179</td>\n",
       "      <td>94.200000</td>\n",
       "      <td>94.8</td>\n",
       "      <td>95.200000</td>\n",
       "    </tr>\n",
       "    <tr>\n",
       "      <th>7</th>\n",
       "      <td>98.571609</td>\n",
       "      <td>98.655128</td>\n",
       "      <td>98.719894</td>\n",
       "      <td>98.761436</td>\n",
       "      <td>98.777962</td>\n",
       "      <td>98.505426</td>\n",
       "      <td>98.692636</td>\n",
       "      <td>98.784355</td>\n",
       "      <td>98.798820</td>\n",
       "      <td>99.131767</td>\n",
       "      <td>99.170000</td>\n",
       "      <td>100.000000</td>\n",
       "      <td>99.611808</td>\n",
       "      <td>99.657085</td>\n",
       "      <td>99.709480</td>\n",
       "      <td>99.700000</td>\n",
       "      <td>100.0</td>\n",
       "      <td>100.000000</td>\n",
       "    </tr>\n",
       "    <tr>\n",
       "      <th>8</th>\n",
       "      <td>99.900000</td>\n",
       "      <td>99.800000</td>\n",
       "      <td>95.700000</td>\n",
       "      <td>99.100000</td>\n",
       "      <td>98.889946</td>\n",
       "      <td>99.300000</td>\n",
       "      <td>98.812134</td>\n",
       "      <td>98.778023</td>\n",
       "      <td>98.762558</td>\n",
       "      <td>98.864006</td>\n",
       "      <td>98.840000</td>\n",
       "      <td>99.326546</td>\n",
       "      <td>99.234581</td>\n",
       "      <td>100.000000</td>\n",
       "      <td>100.000000</td>\n",
       "      <td>99.400000</td>\n",
       "      <td>99.2</td>\n",
       "      <td>100.000000</td>\n",
       "    </tr>\n",
       "  </tbody>\n",
       "</table>\n",
       "</div>"
      ],
      "text/plain": [
       "        2001       2002       2003       2004       2005       2006  \\\n",
       "0  95.511063  96.107910  96.384895  96.638649  96.867393  97.080025   \n",
       "1  69.258539  63.996855  72.300000  76.125999  68.288209  76.211281   \n",
       "2  96.016528  96.652996  96.980098  96.765107  97.093513  97.594314   \n",
       "3  94.229317  94.530762  94.813454  95.072922  96.800000  95.525703   \n",
       "4  97.173630  97.395782  98.782325  97.779366  97.934525  99.368108   \n",
       "5  93.908539  94.279808  94.973044  94.961617  95.832650  96.315259   \n",
       "6  72.113111  74.382688  74.380966  75.692357  77.173645  80.157275   \n",
       "7  98.571609  98.655128  98.719894  98.761436  98.777962  98.505426   \n",
       "8  99.900000  99.800000  95.700000  99.100000  98.889946  99.300000   \n",
       "\n",
       "        2007       2008       2009       2010       2011        2012  \\\n",
       "0  97.288132  97.503296  97.737106  98.820000  99.278694   99.497856   \n",
       "1  80.156567  84.674991  86.765597  88.033195  88.335943   90.387375   \n",
       "2  98.125382  98.526625  98.856938  98.976738  99.328691   99.519494   \n",
       "3  95.739525  96.806763  96.057229  96.788995  96.693600   97.032176   \n",
       "4  98.208099  98.349686  99.593662  99.383003  99.588193  100.000000   \n",
       "5  96.812618  97.206576  96.470862  97.462142  96.872699   97.194929   \n",
       "6  81.988131  84.678343  86.424320  88.123061  89.707491   91.099508   \n",
       "7  98.692636  98.784355  98.798820  99.131767  99.170000  100.000000   \n",
       "8  98.812134  98.778023  98.762558  98.864006  98.840000   99.326546   \n",
       "\n",
       "        2013        2014        2015        2016   2017        2018  \n",
       "0  99.476555  100.000000   99.827118   99.959122  100.0  100.000000  \n",
       "1  89.505686   90.038729   91.522822   91.800000   91.8   95.585365  \n",
       "2  99.575151   99.650247   99.710902   99.700000  100.0  100.000000  \n",
       "3  97.779418   97.790938   98.186898   98.400000   98.5   99.936447  \n",
       "4  99.600000  100.000000   99.714844  100.000000  100.0  100.000000  \n",
       "5  98.034674   98.976067   98.825883   98.700000   99.2  100.000000  \n",
       "6  92.135365   92.919989   93.852179   94.200000   94.8   95.200000  \n",
       "7  99.611808   99.657085   99.709480   99.700000  100.0  100.000000  \n",
       "8  99.234581  100.000000  100.000000   99.400000   99.2  100.000000  "
      ]
     },
     "execution_count": 30,
     "metadata": {},
     "output_type": "execute_result"
    }
   ],
   "source": [
    "stats"
   ]
  },
  {
   "cell_type": "code",
   "execution_count": 31,
   "id": "bebf9eac-f3ad-46b6-bfbc-ced55b4a0115",
   "metadata": {},
   "outputs": [],
   "source": [
    "#Extracting statistics for a particular row. In this case, Venezuela (Row 8), is examined.\n",
    "ven=stats.iloc[8]"
   ]
  },
  {
   "cell_type": "code",
   "execution_count": 32,
   "id": "e07191a8-d8fc-4f5c-8415-0491fbc90c41",
   "metadata": {},
   "outputs": [
    {
     "data": {
      "text/plain": [
       "count     18.000000\n",
       "mean      99.105989\n",
       "std        0.963957\n",
       "min       95.700000\n",
       "25%       98.846002\n",
       "50%       99.217290\n",
       "75%       99.700000\n",
       "max      100.000000\n",
       "Name: 8, dtype: float64"
      ]
     },
     "execution_count": 32,
     "metadata": {},
     "output_type": "execute_result"
    }
   ],
   "source": [
    "ven.describe()"
   ]
  },
  {
   "cell_type": "code",
   "execution_count": 33,
   "id": "42c09114-9409-4327-9f7f-33aa9a8891df",
   "metadata": {},
   "outputs": [
    {
     "name": "stdout",
     "output_type": "stream",
     "text": [
      "0    95.511063\n",
      "1    69.258539\n",
      "2    96.016528\n",
      "3    94.229317\n",
      "4    97.173630\n",
      "5    93.908539\n",
      "6    72.113111\n",
      "7    98.571609\n",
      "8    99.900000\n",
      "Name: 2001, dtype: float64\n"
     ]
    }
   ],
   "source": [
    "#Examining all the countries during 2001\n",
    "year2001=stats['2001']\n",
    "print(year2001)"
   ]
  },
  {
   "cell_type": "code",
   "execution_count": 34,
   "id": "9f61611d-7ed2-4739-b4cd-77fa41c69378",
   "metadata": {},
   "outputs": [
    {
     "name": "stdout",
     "output_type": "stream",
     "text": [
      "        2008       2009       2010       2011\n",
      "0  97.503296  97.737106  98.820000  99.278694\n",
      "1  84.674991  86.765597  88.033195  88.335943\n",
      "2  98.526625  98.856938  98.976738  99.328691\n",
      "3  96.806763  96.057229  96.788995  96.693600\n",
      "4  98.349686  99.593662  99.383003  99.588193\n",
      "5  97.206576  96.470862  97.462142  96.872699\n",
      "6  84.678343  86.424320  88.123061  89.707491\n",
      "7  98.784355  98.798820  99.131767  99.170000\n",
      "8  98.778023  98.762558  98.864006  98.840000\n"
     ]
    },
    {
     "data": {
      "text/plain": [
       "pandas.core.frame.DataFrame"
      ]
     },
     "execution_count": 34,
     "metadata": {},
     "output_type": "execute_result"
    }
   ],
   "source": [
    "#Creating a subset from the original DataFrame. Let's say we are interested in years 2008-2011, for particular reasons.\n",
    "# This subset will be called selectedyears\n",
    "# To verify the type of data that was created, we will evaluate via type() command\n",
    "selectedyears = stats[['2008','2009','2010','2011']]\n",
    "print(selectedyears)\n",
    "type(selectedyears)"
   ]
  },
  {
   "cell_type": "code",
   "execution_count": 35,
   "id": "0725f2f5-f91b-443c-8289-5eaa93696cd8",
   "metadata": {},
   "outputs": [],
   "source": [
    "# Individual analysis will be carried out per year among all the countries\n",
    "year2008=stats['2008']\n",
    "year2009=stats['2009']\n",
    "year2010=stats['2010']\n",
    "year2011=stats['2011']"
   ]
  },
  {
   "cell_type": "code",
   "execution_count": 36,
   "id": "0ab2b519-a29c-4875-9128-0b718ae7f182",
   "metadata": {},
   "outputs": [
    {
     "data": {
      "image/png": "[encoded data removed]",
      "text/plain": [
       "<Figure size 432x288 with 1 Axes>"
      ]
     },
     "metadata": {},
     "output_type": "display_data"
    }
   ],
   "source": [
    "#Styling of the graph - 2008\n",
    "plt.title(\"Access to electricity (% of ppl.) 2008\",fontsize=17)\n",
    "plt.plot(year2008,'bo')\n",
    "plt.xlabel('Country #')\n",
    "plt.ylabel('%')\n",
    "plt.text(x=0,y=88,s='[0-8]: Argentina Bolivia Brazil Colombia Chile Ecuador Peru Uruguay Venezuela',fontsize=8)\n",
    "plt.xlim(0,8)\n",
    "plt.ylim(90,100)\n",
    "\n",
    "#plt.plot(year2009)\n",
    "#plt.plot(year2010)\n",
    "#plt.plot(year2011)\n",
    "plt.show()"
   ]
  },
  {
   "cell_type": "code",
   "execution_count": 37,
   "id": "a3af96c4-6deb-4680-9a65-aeb13a62e6a9",
   "metadata": {},
   "outputs": [
    {
     "data": {
      "image/png": "[encoded data removed]",
      "text/plain": [
       "<Figure size 432x288 with 1 Axes>"
      ]
     },
     "metadata": {
      "needs_background": "light"
     },
     "output_type": "display_data"
    }
   ],
   "source": [
    "# To export graphs\n",
    "%matplotlib inline\n",
    "\n",
    "#Styling of the graph - 2011\n",
    "plt.title(\"Access to electricity (% of ppl.) 2011\",fontsize=17)\n",
    "plt.plot(year2011,'bo',color='red')\n",
    "plt.xlabel('Country #')\n",
    "plt.ylabel('%')\n",
    "plt.text(x=0,y=88,s='[0-8]: Argentina Bolivia Brazil Colombia Chile Ecuador Peru Uruguay Venezuela',fontsize=8)\n",
    "plt.xlim(0,8)\n",
    "plt.ylim(90,100)\n",
    "\n",
    "# This will apply a predefined style to the graphs\n",
    "plt.style.use('ggplot')\n",
    "\n",
    "#plt.plot(year2009)\n",
    "#plt.plot(year2010)\n",
    "#plt.plot(year2011)\n",
    "plt.show()"
   ]
  },
  {
   "cell_type": "code",
   "execution_count": 44,
   "id": "01ed5230-fad8-4e68-ad44-300a10e46762",
   "metadata": {},
   "outputs": [
    {
     "name": "stdout",
     "output_type": "stream",
     "text": [
      "  Country Name       2011\n",
      "0            0  99.278694\n",
      "1            1  88.335943\n",
      "2            2  99.328691\n",
      "3            3  96.693600\n",
      "4            4  99.588193\n",
      "5            5  96.872699\n",
      "6            6  89.707491\n",
      "7            7  99.170000\n",
      "8            8  98.840000\n"
     ]
    }
   ],
   "source": [
    "\n",
    "first_name = ['0','1','2','3','4','5','6','7','8']\n",
    "series_first_name = pandas.Series(first_name)\n",
    "\n",
    "df_first_name = pandas.DataFrame(series_first_name)\n",
    "df_first_name = df_first_name.rename(columns = {0:'Country Name'})\n",
    "\n",
    "df_year2011 = pandas.DataFrame(year2011)\n",
    "df_year2011 = df_year2011.rename(columns = {0:'%'})\n",
    "\n",
    "df_all = pandas.concat([df_first_name, df_year2011], axis=1)\n",
    "\n",
    "print(df_all)\n",
    "#print(type(df_all))"
   ]
  },
  {
   "cell_type": "code",
   "execution_count": 50,
   "id": "180eb78b-31c6-41f3-b0ee-35533eaee237",
   "metadata": {},
   "outputs": [
    {
     "name": "stdout",
     "output_type": "stream",
     "text": [
      "Theta1: 0.19473488981120005\n",
      "Intercept 95.64498390218098\n",
      "R-Square: 0.01509036481416104\n"
     ]
    }
   ],
   "source": [
    "regr = LinearRegression()\n",
    "regr.fit(df_first_name,df_year2011)\n",
    "print('Theta1:', regr.coef_[0][0])\n",
    "print('Intercept', regr.intercept_[0])\n",
    "print('R-Square:', regr.score(df_first_name,df_year2011))\n",
    "predicted_percentage = regr.predict(df_year2011)"
   ]
  },
  {
   "cell_type": "code",
   "execution_count": null,
   "id": "396214a8-3fec-4442-a80f-343d13cbcc24",
   "metadata": {},
   "outputs": [],
   "source": []
  },
  {
   "cell_type": "code",
   "execution_count": null,
   "id": "5750033f-8ab8-442a-adec-bd75e76f2291",
   "metadata": {},
   "outputs": [],
   "source": []
  }
 ],
 "metadata": {
  "kernelspec": {
   "display_name": "Python 3",
   "language": "python",
   "name": "python3"
  },
  "language_info": {
   "codemirror_mode": {
    "name": "ipython",
    "version": 3
   },
   "file_extension": ".py",
   "mimetype": "text/x-python",
   "name": "python",
   "nbconvert_exporter": "python",
   "pygments_lexer": "ipython3",
   "version": "3.9.4"
  }
 },
 "nbformat": 4,
 "nbformat_minor": 5
}
